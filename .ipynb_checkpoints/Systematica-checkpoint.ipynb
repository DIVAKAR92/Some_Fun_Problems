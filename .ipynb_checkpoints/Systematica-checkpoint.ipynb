{
 "cells": [
  {
   "cell_type": "markdown",
   "metadata": {},
   "source": [
    "Function to simulate 2 random points on the circumference of a circle of radius r\n",
    "Inputs is the radius of the circle (r), the default value is 1.\n",
    "Output are the vector of co-ordinates of 2 points in the order (x1, y1, x2, y2)"
   ]
  },
  {
   "cell_type": "code",
   "execution_count": 391,
   "metadata": {
    "collapsed": true
   },
   "outputs": [],
   "source": [
    "import numpy as np \n",
    "import math\n",
    "\n",
    "def generate_points_circle(r = 1):\n",
    "    \"\"\"\n",
    "    Function which generates points on the circumference of the circle\n",
    "    This uses polar representation to simulate the co-ordinates on the circumference.\n",
    "    Input : the radius of the circle, default value is 1\n",
    "    Output : co-ordinates of the simulated point returned as a list in the order (x1, y1, x2, y2).\n",
    "    \"\"\"\n",
    "    # Sample two angles theta and phi uniformly between 0 and 2*pi\n",
    "    theta = 2*math.pi*np.random.uniform(0,1,1)\n",
    "    phi = 2*math.pi*np.random.uniform(0,1,1)\n",
    "    # co-ordinate is given by r*cos(theta) and r*sin(theta).\n",
    "    result = [r*math.cos(theta), r*math.sin(theta), r*math.cos(phi), r*math.sin(phi)]\n",
    "    return result"
   ]
  },
  {
   "cell_type": "code",
   "execution_count": 392,
   "metadata": {},
   "outputs": [
    {
     "data": {
      "text/plain": [
       "[0.23074554770466557,\n",
       " 0.9730141274485555,\n",
       " 0.2052562613242907,\n",
       " -0.9787082645953157]"
      ]
     },
     "execution_count": 392,
     "metadata": {},
     "output_type": "execute_result"
    }
   ],
   "source": [
    "generate_points_circle()"
   ]
  },
  {
   "cell_type": "markdown",
   "metadata": {},
   "source": [
    " Function to calculate the probability that the chord joining two random points drawn on\n",
    " the circumference of the circle is larger than the side of an equilateral traingle \n",
    " inscribed within it. \n",
    " Inputs are nsim = number of simulations to be done and r =  radius of circle"
   ]
  },
  {
   "cell_type": "code",
   "execution_count": 83,
   "metadata": {},
   "outputs": [],
   "source": [
    "def calculate_probability_1(nsim, r):\n",
    "    \"\"\"\n",
    "    Function which calculates the probability that the chord joining two random points in the \n",
    "    circumference is larger than the side of an equilateral triangle inscribed within it. \n",
    "    \n",
    "    Input : nsim -- number of simulations to be made.\n",
    "    r : radius of the circle\n",
    "    \n",
    "    Output : the required probability \n",
    "    \"\"\"\n",
    "    # the side of the equilateral triangle is given by sqrt(3)*r\n",
    "    side_length = np.sqrt(3)*r\n",
    "    # set the counter to 0\n",
    "    count = 0.0\n",
    "    # loop over number of simulations \n",
    "    for i in range(nsim):\n",
    "        # generate two random points on the circumference \n",
    "        tmp = generate_points_circle(r)\n",
    "        # calculate the chord length \n",
    "        chord_length = np.sqrt((tmp[0] - tmp[2])**2 + (tmp[1] - tmp[3])**2)\n",
    "        # check if the chord length is larger than the side of the equilateral triangle\n",
    "        if chord_length > side_length:\n",
    "            # if true, increase the counter by 1.\n",
    "            count = count + 1.0\n",
    "    # prob is given by the ratio of counter to nsim\n",
    "    prob = count/nsim\n",
    "    return prob"
   ]
  },
  {
   "cell_type": "code",
   "execution_count": 98,
   "metadata": {},
   "outputs": [
    {
     "name": "stdout",
     "output_type": "stream",
     "text": [
      "('The required probability is ', 0.333792, ' while its Monte-Carlo variance is ', 2.22374900736e-07)\n"
     ]
    }
   ],
   "source": [
    "nsim = 1000000\n",
    "prob = calculate_probability_1(nsim,1)\n",
    "print(\"The required probability is \", prob, \" while its Monte-Carlo variance is \", \n",
    "      prob*(1-prob)/nsim)"
   ]
  },
  {
   "cell_type": "markdown",
   "metadata": {},
   "source": [
    "For a given point $(x, y)$ inside a circle of radius $R$ such that it is a mid-point of a unique chord, the length of the chord is given by $2\\sqrt{R^2 - x^2 - y^2}$. Here we assume that the circle is centred at the origin $(0,0)$. We use this to calculate the probability that the length of this chord is bigger than the side of an equilateral triangle inscribed inside it. "
   ]
  },
  {
   "cell_type": "code",
   "execution_count": 393,
   "metadata": {},
   "outputs": [],
   "source": [
    "def calculate_probability_2(nsim, R):\n",
    "    \"\"\"\n",
    "    Function to calculate the probability that a random point inside a circle of radius R such that \n",
    "    it is the mid point of a unique chord passing through it has length larger than the side of an\n",
    "    equilateral triangle inscribed within it. \n",
    "    \n",
    "    Input : nsim -- number of simulations to be made.\n",
    "    R : radius of the circle\n",
    "    \n",
    "    Output : the required probability\n",
    "    \"\"\"\n",
    "    # get the side length of the equilateral triangle\n",
    "    side_length = np.sqrt(3)*R\n",
    "    # set a counter to zero\n",
    "    count = 0.0\n",
    "    # loop over number of simulations \n",
    "    for i in range(nsim):\n",
    "            # generate points inside a disc of radius r\n",
    "            theta = 2*math.pi*np.random.uniform(0,1,1)\n",
    "            r = R*np.random.uniform(0,1,1)\n",
    "            x = r*math.cos(theta); y = r*math.sin(theta)\n",
    "            # calculate the chord length\n",
    "            chord_length = 2*np.sqrt(R**2 - x**2 - y**2)\n",
    "            # check if it is larger than the side of triangle\n",
    "            if chord_length > side_length:\n",
    "                count = count + 1.0\n",
    "    # calculate the required probability\n",
    "    prob = count/nsim\n",
    "    return prob"
   ]
  },
  {
   "cell_type": "code",
   "execution_count": 394,
   "metadata": {},
   "outputs": [
    {
     "name": "stdout",
     "output_type": "stream",
     "text": [
      "('The required probability is ', 0.499504, ' while its Monte-Carlo variance is ', 2.49999753984e-07)\n"
     ]
    }
   ],
   "source": [
    "nsim = 1000000\n",
    "prob = calculate_probability_2(nsim,1)\n",
    "print(\"The required probability is \", prob, \" while its Monte-Carlo variance is \", \n",
    "      prob*(1-prob)/nsim)"
   ]
  },
  {
   "cell_type": "markdown",
   "metadata": {},
   "source": [
    "Next we consider two different random points inside a circle of radius $R$ given by \n",
    "$A = (x_1, y_1)$ and $B = (x_2, y_2)$. Their mid point is $M = (\\frac{x_1+x_2}{2}, \\frac{y_1+y_2}{2})$. Therefore the perpendicular distance of from the centre of the circle to mid-point is given by $\\sqrt{\\left(\\frac{x_1+x_2}{2}\\right)^2 + \\left( \\frac{y_1+y_2}{2}\\right)^2}$. Hence the length of the chord is $2\\sqrt{R^2 - \\left(\\frac{x_1+x_2}{2}\\right)^2 - \\left( \\frac{y_1+y_2}{2}\\right)^2 }$. The following function calculates the probability of this random chord being greater than the side of the equilateral traingle inscribed within it."
   ]
  },
  {
   "cell_type": "code",
   "execution_count": 361,
   "metadata": {
    "collapsed": true
   },
   "outputs": [],
   "source": [
    "def calculate_probability_3(nsim, R):\n",
    "    \"\"\"\n",
    "    Function to calculate the probability that the length of the chord passing through two random \n",
    "    points inside a circle of radius R is larger than the side of an equilateral triangle inscribed \n",
    "    within it. \n",
    "    \n",
    "    Input : nsim -- number of simulations to be made.\n",
    "    R : radius of the circle\n",
    "    \n",
    "    Output : the required probability\n",
    "    \"\"\"\n",
    "    # calculate the side of the triangle\n",
    "    side_length = np.sqrt(3)*R\n",
    "    # set the counter to 0.0\n",
    "    count = 0.0\n",
    "    for i in range(nsim):\n",
    "            # generate two points inside a disc of radius R\n",
    "            theta1 = 2*math.pi*np.random.uniform(0,1,1)\n",
    "            r1 = R*np.random.uniform(0,1,1)\n",
    "            x1 = r1*math.cos(theta1); y1 = r1*math.sin(theta1)\n",
    "            theta2 = 2*math.pi*np.random.uniform(0,1,1)\n",
    "            r2 = R*np.random.uniform(0,1,1)\n",
    "            x2 = r2*math.cos(theta2); y2 = r2*math.sin(theta2)\n",
    "            # calculate the chord length \n",
    "            chord_length = 2*np.sqrt(R**2 - ((x1+x2)/2)**2 - ((y1+y2)/2)**2)\n",
    "            # check if it is larger than the side \n",
    "            if chord_length > side_length:\n",
    "                count = count + 1.0\n",
    "    # calculate the required probability\n",
    "    prob = count/nsim\n",
    "    return prob"
   ]
  },
  {
   "cell_type": "code",
   "execution_count": 363,
   "metadata": {},
   "outputs": [
    {
     "name": "stdout",
     "output_type": "stream",
     "text": [
      "('The required probability is ', 0.777293, ' while its Monte-Carlo variance is ', 1.73108592151e-07)\n"
     ]
    }
   ],
   "source": [
    "nsim = 1000000\n",
    "prob = calculate_probability_3(nsim,1)\n",
    "print(\"The required probability is \", prob, \" while its Monte-Carlo variance is \", \n",
    "      prob*(1-prob)/nsim)"
   ]
  },
  {
   "cell_type": "markdown",
   "metadata": {},
   "source": [
    "Write a function that solves a labyrinth defined by a matrix and starting in the top left corner and finishing in the bottom right corner. The input is an NxM matrix with entries either 0 or 1, where 0 means a cell where you can walk and 1 means a cell with a wall where you cannot walk. The function should return:\n",
    "\n",
    "1. Whether there is a path through the labyrinth\n",
    "2. The length of the shortest path through the labyrinth"
   ]
  },
  {
   "cell_type": "code",
   "execution_count": 376,
   "metadata": {},
   "outputs": [],
   "source": [
    "def convert_matrix_to_graph(mat):\n",
    "    \"\"\"\n",
    "    Input : mat -- a list of lists consisting of 0 and 1.\n",
    "    Output : A graph in a dictionary format where the keys are the positions \n",
    "    of the element in the matrix where there are no 1's. The values corresponding to a key\n",
    "    is the positions which are neighbours of the key and is walkable.\n",
    "    \"\"\"\n",
    "    # extract the number of rows and columns of this matrix\n",
    "    nrow = np.shape(mat)[0]\n",
    "    ncol = np.shape(mat)[1]\n",
    "    # create a blank graph simply by considering all the positions inside the matrix which\n",
    "    # consists of zeroes only.\n",
    "    graph = {(r, c): [] for c in range(ncol) for r in range(nrow) if mat[r][c] != 1}\n",
    "    # loop over all such psotions where there are zeroes only \n",
    "    for row, col in graph.keys():\n",
    "        # check if we have not hit extreme right and there are no walls \n",
    "        if col < ncol - 1 and mat[row][col + 1] != 1:\n",
    "            # movement towards left or right\n",
    "            graph[(row, col)].append(( (row, col + 1))); graph[(row, col + 1)].append(( (row, col)))\n",
    "        # check if we have not hit extreme bottom and if there are no walls    \n",
    "        if row < nrow - 1 and mat[row + 1][col] != 1:\n",
    "            # movements up or down.\n",
    "            graph[(row, col)].append(( (row + 1, col))); graph[(row + 1, col)].append(( (row, col)))\n",
    "    return graph"
   ]
  },
  {
   "cell_type": "code",
   "execution_count": 397,
   "metadata": {},
   "outputs": [
    {
     "data": {
      "text/plain": [
       "{(0, 0): [(1, 0), (0, 1)],\n",
       " (0, 1): [(0, 0)],\n",
       " (1, 0): [(0, 0), (2, 0)],\n",
       " (1, 2): [(2, 2)],\n",
       " (2, 0): [(2, 1), (1, 0)],\n",
       " (2, 1): [(2, 2), (2, 0)],\n",
       " (2, 2): [(1, 2), (2, 1)]}"
      ]
     },
     "execution_count": 397,
     "metadata": {},
     "output_type": "execute_result"
    }
   ],
   "source": [
    "mat_test= [[0,0,1],[0,1,0],[0,0,0]]\n",
    "\n",
    "convert_grid_to_graph(grid2)"
   ]
  },
  {
   "cell_type": "code",
   "execution_count": 395,
   "metadata": {},
   "outputs": [],
   "source": [
    "from collections import deque\n",
    "import numpy as np\n",
    "\n",
    "def find_shortest_distance(mat):\n",
    "    \"\"\"\n",
    "    Input : mat -- a list of lists consisting of 0 and 1.\n",
    "    Output : The shortest distance between origin (top left) and the destination (bottom right).\n",
    "    If there are not such paths the function return \"There are no paths \"\n",
    "    \"\"\"\n",
    "    # extract the number of rows and columns of the matrix\n",
    "    nrow = np.shape(mat)[0]\n",
    "    ncol = np.shape(mat)[1]\n",
    "    # define the origin and the destination positions\n",
    "    origin = (0,0); destination = (nrow-1, ncol-1)\n",
    "    # create a set of visited positions \n",
    "    visited_set = set()\n",
    "    # create a queue consisting of distance and the positions\n",
    "    queue = deque([(0,origin)])\n",
    "    # convert the given matrix into a graph \n",
    "    mat_as_graph = convert_matrix_to_graph(mat)\n",
    "    # loop over until the queue is empty    \n",
    "    while len(queue) > 0:\n",
    "        # extract the distance and the current position\n",
    "        distance, current_position = queue.popleft()\n",
    "        # exit if we have already reached and output distance    \n",
    "        if current_position == destination:\n",
    "            return \"The shortest distance is \", distance\n",
    "        # if not already visited then \n",
    "        elif current_position not in visited_set:\n",
    "            # check all neighbours where there are no waals \n",
    "            for neighbours in mat_as_graph[current_position]:\n",
    "                # insert into the queue (distance and neighbours)\n",
    "                queue.append((distance+1, neighbours))\n",
    "            # mark the current position as visited\n",
    "            visited_set.add(current_position)  \n",
    "    return \"There are no paths!\""
   ]
  },
  {
   "cell_type": "code",
   "execution_count": 396,
   "metadata": {},
   "outputs": [
    {
     "name": "stdout",
     "output_type": "stream",
     "text": [
      "('The shortest distance is ', 10)\n"
     ]
    }
   ],
   "source": [
    "mat = [[0, 0, 0, 0, 0, 1],\n",
    "        [1, 1, 0, 0, 0, 1],\n",
    "        [0, 0, 0, 0, 0, 0],\n",
    "        [0, 1, 1, 0, 0, 1],\n",
    "        [0, 1, 0, 1, 0, 0],\n",
    "        [0, 1, 0, 1, 0, 0]]\n",
    "\n",
    "print find_shortest_distance(mat)"
   ]
  }
 ],
 "metadata": {
  "kernelspec": {
   "display_name": "Python [default]",
   "language": "python",
   "name": "python2"
  },
  "language_info": {
   "codemirror_mode": {
    "name": "ipython",
    "version": 2
   },
   "file_extension": ".py",
   "mimetype": "text/x-python",
   "name": "python",
   "nbconvert_exporter": "python",
   "pygments_lexer": "ipython2",
   "version": "2.7.13"
  }
 },
 "nbformat": 4,
 "nbformat_minor": 2
}
